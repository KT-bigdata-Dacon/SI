{
 "cells": [
  {
   "cell_type": "code",
   "execution_count": 1,
   "metadata": {},
   "outputs": [],
   "source": [
    "import pandas as pd\n",
    "import numpy as np\n",
    "import seaborn as sns\n",
    "import matplotlib\n",
    "import matplotlib.pyplot as plt\n",
    "matplotlib.rc('font', family = 'Malgun Gothic')\n",
    "%matplotlib inline"
   ]
  },
  {
   "cell_type": "markdown",
   "metadata": {},
   "source": [
    "## 아이디어\n",
    "\n",
    "1) 상업지역 - 주거지역 코로나 전후 비교 시각화 (건수, 업종, 배달시간 등)\n",
    "2) 날씨데이터 추가하여 시각화\n",
    "3) 창/폐업 데이터 이용하여 시각화\n",
    "4) 태블로활용 구별/업종별 시각화 (metrics and matrix)"
   ]
  },
  {
   "cell_type": "markdown",
   "metadata": {},
   "source": [
    "https://github.com/jihoo-kim/Data-Science-for-COVID-19/blob/master/dataset-detailed-description.ipynb\n",
    "    \n",
    "    \n",
    "covide19 dataset description"
   ]
  },
  {
   "cell_type": "markdown",
   "metadata": {},
   "source": [
    "### 아이디어 실현"
   ]
  },
  {
   "cell_type": "markdown",
   "metadata": {},
   "source": [
    "1) 상업지역 - 주거지역 코로나 전후 비교 시각화"
   ]
  },
  {
   "cell_type": "code",
   "execution_count": 2,
   "metadata": {},
   "outputs": [
    {
     "name": "stderr",
     "output_type": "stream",
     "text": [
      "c:\\users\\inthe\\miniconda3\\lib\\site-packages\\IPython\\core\\interactiveshell.py:3155: DtypeWarning: Columns (19) have mixed types.Specify dtype option on import or set low_memory=False.\n",
      "  has_raised = await self.run_ast_nodes(code_ast.body, cell_name,\n"
     ]
    },
    {
     "data": {
      "text/html": [
       "<div>\n",
       "<style scoped>\n",
       "    .dataframe tbody tr th:only-of-type {\n",
       "        vertical-align: middle;\n",
       "    }\n",
       "\n",
       "    .dataframe tbody tr th {\n",
       "        vertical-align: top;\n",
       "    }\n",
       "\n",
       "    .dataframe thead th {\n",
       "        text-align: right;\n",
       "    }\n",
       "</style>\n",
       "<table border=\"1\" class=\"dataframe\">\n",
       "  <thead>\n",
       "    <tr style=\"text-align: right;\">\n",
       "      <th></th>\n",
       "      <th>SN</th>\n",
       "      <th>PROCESS_DT</th>\n",
       "      <th>DLVR_REQUST_ENTRPS_ID</th>\n",
       "      <th>DLVR_REQUST_STTUS_VALUE</th>\n",
       "      <th>DLVR_RCEPT_ENTRPS_ID</th>\n",
       "      <th>DLVR_STORE_ID</th>\n",
       "      <th>DLVR_STORE_INDUTY_NM</th>\n",
       "      <th>DLVR_STORE_LEGALDONG_CODE</th>\n",
       "      <th>DLVR_STORE_BRTC_NM</th>\n",
       "      <th>DLVR_STORE_SIGNGU_NM</th>\n",
       "      <th>...</th>\n",
       "      <th>DLVR_AMOUNT</th>\n",
       "      <th>CALL_RLAY_FEE_AMOUNT</th>\n",
       "      <th>GOODS_AMOUNT</th>\n",
       "      <th>SETLE_KND_VALUE</th>\n",
       "      <th>SETLE_CARD_NM</th>\n",
       "      <th>DLVR_RCEPT_TIME</th>\n",
       "      <th>DLVR_CARALC_TIME</th>\n",
       "      <th>DLVR_RECPT_TIME</th>\n",
       "      <th>DLVR_COMPT_TIME</th>\n",
       "      <th>DLVR_CANCL_TIME</th>\n",
       "    </tr>\n",
       "  </thead>\n",
       "  <tbody>\n",
       "    <tr>\n",
       "      <th>0</th>\n",
       "      <td>3486929</td>\n",
       "      <td>2019-12-01</td>\n",
       "      <td>C000101</td>\n",
       "      <td>1</td>\n",
       "      <td>C000101</td>\n",
       "      <td>S0021950</td>\n",
       "      <td>족발/보쌈</td>\n",
       "      <td>1156013200</td>\n",
       "      <td>서울특별시</td>\n",
       "      <td>영등포구</td>\n",
       "      <td>...</td>\n",
       "      <td>3300</td>\n",
       "      <td>200</td>\n",
       "      <td>18000</td>\n",
       "      <td>1</td>\n",
       "      <td>승인:KB국민카드</td>\n",
       "      <td>2019-12-01 20:47:52</td>\n",
       "      <td>2019-12-01 20:48:11</td>\n",
       "      <td>2019-12-01 20:55:33</td>\n",
       "      <td>2019-12-01 21:00:15</td>\n",
       "      <td>\\N</td>\n",
       "    </tr>\n",
       "    <tr>\n",
       "      <th>1</th>\n",
       "      <td>3486930</td>\n",
       "      <td>2019-12-01</td>\n",
       "      <td>C000099</td>\n",
       "      <td>1</td>\n",
       "      <td>C000099</td>\n",
       "      <td>S0039210</td>\n",
       "      <td>치킨</td>\n",
       "      <td>4128510200</td>\n",
       "      <td>경기도</td>\n",
       "      <td>고양시 일산동구</td>\n",
       "      <td>...</td>\n",
       "      <td>2900</td>\n",
       "      <td>0</td>\n",
       "      <td>21900</td>\n",
       "      <td>1</td>\n",
       "      <td>승인:현대카드사</td>\n",
       "      <td>2019-12-01 21:58:07</td>\n",
       "      <td>2019-12-01 22:01:06</td>\n",
       "      <td>2019-12-01 22:20:53</td>\n",
       "      <td>2019-12-01 22:26:01</td>\n",
       "      <td>\\N</td>\n",
       "    </tr>\n",
       "    <tr>\n",
       "      <th>2</th>\n",
       "      <td>3486932</td>\n",
       "      <td>2019-12-01</td>\n",
       "      <td>C000029</td>\n",
       "      <td>1</td>\n",
       "      <td>C000043</td>\n",
       "      <td>S0036135</td>\n",
       "      <td>치킨</td>\n",
       "      <td>4115010100</td>\n",
       "      <td>경기도</td>\n",
       "      <td>의정부시</td>\n",
       "      <td>...</td>\n",
       "      <td>3500</td>\n",
       "      <td>200</td>\n",
       "      <td>19500</td>\n",
       "      <td>2</td>\n",
       "      <td>NaN</td>\n",
       "      <td>2019-12-01 22:20:31</td>\n",
       "      <td>2019-12-01 22:37:45</td>\n",
       "      <td>2019-12-01 22:58:27</td>\n",
       "      <td>2019-12-01 22:58:32</td>\n",
       "      <td>\\N</td>\n",
       "    </tr>\n",
       "    <tr>\n",
       "      <th>3</th>\n",
       "      <td>3486933</td>\n",
       "      <td>2019-12-01</td>\n",
       "      <td>C000105</td>\n",
       "      <td>1</td>\n",
       "      <td>C000105</td>\n",
       "      <td>S0039956</td>\n",
       "      <td>돈까스/일식</td>\n",
       "      <td>4128510400</td>\n",
       "      <td>경기도</td>\n",
       "      <td>고양시 일산동구</td>\n",
       "      <td>...</td>\n",
       "      <td>3500</td>\n",
       "      <td>0</td>\n",
       "      <td>18000</td>\n",
       "      <td>2</td>\n",
       "      <td>NaN</td>\n",
       "      <td>2019-12-01 21:40:39</td>\n",
       "      <td>2019-12-01 21:48:41</td>\n",
       "      <td>2019-12-01 22:06:35</td>\n",
       "      <td>2019-12-01 22:17:57</td>\n",
       "      <td>\\N</td>\n",
       "    </tr>\n",
       "    <tr>\n",
       "      <th>4</th>\n",
       "      <td>3486934</td>\n",
       "      <td>2019-12-01</td>\n",
       "      <td>C000028</td>\n",
       "      <td>1</td>\n",
       "      <td>C000043</td>\n",
       "      <td>S0003074</td>\n",
       "      <td>치킨</td>\n",
       "      <td>4115010900</td>\n",
       "      <td>경기도</td>\n",
       "      <td>의정부시</td>\n",
       "      <td>...</td>\n",
       "      <td>3500</td>\n",
       "      <td>200</td>\n",
       "      <td>18000</td>\n",
       "      <td>3</td>\n",
       "      <td>NaN</td>\n",
       "      <td>2019-12-01 19:44:37</td>\n",
       "      <td>2019-12-01 19:48:07</td>\n",
       "      <td>2019-12-01 19:54:30</td>\n",
       "      <td>2019-12-01 20:00:22</td>\n",
       "      <td>\\N</td>\n",
       "    </tr>\n",
       "    <tr>\n",
       "      <th>...</th>\n",
       "      <td>...</td>\n",
       "      <td>...</td>\n",
       "      <td>...</td>\n",
       "      <td>...</td>\n",
       "      <td>...</td>\n",
       "      <td>...</td>\n",
       "      <td>...</td>\n",
       "      <td>...</td>\n",
       "      <td>...</td>\n",
       "      <td>...</td>\n",
       "      <td>...</td>\n",
       "      <td>...</td>\n",
       "      <td>...</td>\n",
       "      <td>...</td>\n",
       "      <td>...</td>\n",
       "      <td>...</td>\n",
       "      <td>...</td>\n",
       "      <td>...</td>\n",
       "      <td>...</td>\n",
       "      <td>...</td>\n",
       "      <td>...</td>\n",
       "    </tr>\n",
       "    <tr>\n",
       "      <th>4296266</th>\n",
       "      <td>7750546</td>\n",
       "      <td>2020-03-31</td>\n",
       "      <td>C000237</td>\n",
       "      <td>1</td>\n",
       "      <td>C000237</td>\n",
       "      <td>S0021188</td>\n",
       "      <td>족발/보쌈</td>\n",
       "      <td>4121010200</td>\n",
       "      <td>경기도</td>\n",
       "      <td>광명시</td>\n",
       "      <td>...</td>\n",
       "      <td>3300</td>\n",
       "      <td>300</td>\n",
       "      <td>20900</td>\n",
       "      <td>2</td>\n",
       "      <td>NaN</td>\n",
       "      <td>2020-03-31 23:56</td>\n",
       "      <td>2020-03-31 23:56</td>\n",
       "      <td>2020-04-01 0:14</td>\n",
       "      <td>2020-04-01 0:18</td>\n",
       "      <td>\\N</td>\n",
       "    </tr>\n",
       "    <tr>\n",
       "      <th>4296267</th>\n",
       "      <td>7750548</td>\n",
       "      <td>2020-03-31</td>\n",
       "      <td>C000104</td>\n",
       "      <td>1</td>\n",
       "      <td>C000102</td>\n",
       "      <td>S0021967</td>\n",
       "      <td>치킨</td>\n",
       "      <td>1156013300</td>\n",
       "      <td>서울특별시</td>\n",
       "      <td>영등포구</td>\n",
       "      <td>...</td>\n",
       "      <td>6300</td>\n",
       "      <td>200</td>\n",
       "      <td>26000</td>\n",
       "      <td>1</td>\n",
       "      <td>승인:신한카드</td>\n",
       "      <td>2020-03-31 23:55</td>\n",
       "      <td>2020-03-31 23:55</td>\n",
       "      <td>2020-04-01 0:17</td>\n",
       "      <td>2020-04-01 0:26</td>\n",
       "      <td>\\N</td>\n",
       "    </tr>\n",
       "    <tr>\n",
       "      <th>4296268</th>\n",
       "      <td>7750550</td>\n",
       "      <td>2020-03-31</td>\n",
       "      <td>C000224</td>\n",
       "      <td>1</td>\n",
       "      <td>C000224</td>\n",
       "      <td>S0035329</td>\n",
       "      <td>분식</td>\n",
       "      <td>4127110400</td>\n",
       "      <td>경기도</td>\n",
       "      <td>안산시 상록구</td>\n",
       "      <td>...</td>\n",
       "      <td>5500</td>\n",
       "      <td>200</td>\n",
       "      <td>17000</td>\n",
       "      <td>1</td>\n",
       "      <td>승인:롯데카드사</td>\n",
       "      <td>2020-03-31 23:58</td>\n",
       "      <td>2020-03-31 23:59</td>\n",
       "      <td>2020-04-01 0:18</td>\n",
       "      <td>2020-04-01 0:30</td>\n",
       "      <td>\\N</td>\n",
       "    </tr>\n",
       "    <tr>\n",
       "      <th>4296269</th>\n",
       "      <td>7750552</td>\n",
       "      <td>2020-03-31</td>\n",
       "      <td>C000130</td>\n",
       "      <td>1</td>\n",
       "      <td>C000130</td>\n",
       "      <td>S0002286</td>\n",
       "      <td>족발/보쌈</td>\n",
       "      <td>4128112300</td>\n",
       "      <td>경기도</td>\n",
       "      <td>고양시 덕양구</td>\n",
       "      <td>...</td>\n",
       "      <td>4000</td>\n",
       "      <td>300</td>\n",
       "      <td>35000</td>\n",
       "      <td>2</td>\n",
       "      <td>NaN</td>\n",
       "      <td>2020-03-31 23:56</td>\n",
       "      <td>2020-04-01 0:01</td>\n",
       "      <td>2020-04-01 0:16</td>\n",
       "      <td>2020-04-01 0:23</td>\n",
       "      <td>\\N</td>\n",
       "    </tr>\n",
       "    <tr>\n",
       "      <th>4296270</th>\n",
       "      <td>7750553</td>\n",
       "      <td>2020-03-31</td>\n",
       "      <td>C000209</td>\n",
       "      <td>1</td>\n",
       "      <td>C000209</td>\n",
       "      <td>S0022157</td>\n",
       "      <td>야식</td>\n",
       "      <td>1154510200</td>\n",
       "      <td>서울특별시</td>\n",
       "      <td>금천구</td>\n",
       "      <td>...</td>\n",
       "      <td>3300</td>\n",
       "      <td>300</td>\n",
       "      <td>30000</td>\n",
       "      <td>1</td>\n",
       "      <td>승인:비씨카드사</td>\n",
       "      <td>2020-03-31 23:55</td>\n",
       "      <td>2020-03-31 23:56</td>\n",
       "      <td>2020-04-01 0:11</td>\n",
       "      <td>2020-04-01 0:15</td>\n",
       "      <td>\\N</td>\n",
       "    </tr>\n",
       "  </tbody>\n",
       "</table>\n",
       "<p>4296271 rows × 32 columns</p>\n",
       "</div>"
      ],
      "text/plain": [
       "              SN  PROCESS_DT DLVR_REQUST_ENTRPS_ID  DLVR_REQUST_STTUS_VALUE  \\\n",
       "0        3486929  2019-12-01               C000101                        1   \n",
       "1        3486930  2019-12-01               C000099                        1   \n",
       "2        3486932  2019-12-01               C000029                        1   \n",
       "3        3486933  2019-12-01               C000105                        1   \n",
       "4        3486934  2019-12-01               C000028                        1   \n",
       "...          ...         ...                   ...                      ...   \n",
       "4296266  7750546  2020-03-31               C000237                        1   \n",
       "4296267  7750548  2020-03-31               C000104                        1   \n",
       "4296268  7750550  2020-03-31               C000224                        1   \n",
       "4296269  7750552  2020-03-31               C000130                        1   \n",
       "4296270  7750553  2020-03-31               C000209                        1   \n",
       "\n",
       "        DLVR_RCEPT_ENTRPS_ID DLVR_STORE_ID DLVR_STORE_INDUTY_NM  \\\n",
       "0                    C000101      S0021950                족발/보쌈   \n",
       "1                    C000099      S0039210                   치킨   \n",
       "2                    C000043      S0036135                   치킨   \n",
       "3                    C000105      S0039956               돈까스/일식   \n",
       "4                    C000043      S0003074                   치킨   \n",
       "...                      ...           ...                  ...   \n",
       "4296266              C000237      S0021188                족발/보쌈   \n",
       "4296267              C000102      S0021967                   치킨   \n",
       "4296268              C000224      S0035329                   분식   \n",
       "4296269              C000130      S0002286                족발/보쌈   \n",
       "4296270              C000209      S0022157                   야식   \n",
       "\n",
       "         DLVR_STORE_LEGALDONG_CODE DLVR_STORE_BRTC_NM DLVR_STORE_SIGNGU_NM  \\\n",
       "0                       1156013200              서울특별시                 영등포구   \n",
       "1                       4128510200                경기도             고양시 일산동구   \n",
       "2                       4115010100                경기도                 의정부시   \n",
       "3                       4128510400                경기도             고양시 일산동구   \n",
       "4                       4115010900                경기도                 의정부시   \n",
       "...                            ...                ...                  ...   \n",
       "4296266                 4121010200                경기도                  광명시   \n",
       "4296267                 1156013300              서울특별시                 영등포구   \n",
       "4296268                 4127110400                경기도              안산시 상록구   \n",
       "4296269                 4128112300                경기도              고양시 덕양구   \n",
       "4296270                 1154510200              서울특별시                  금천구   \n",
       "\n",
       "         ... DLVR_AMOUNT CALL_RLAY_FEE_AMOUNT  GOODS_AMOUNT SETLE_KND_VALUE  \\\n",
       "0        ...        3300                  200         18000               1   \n",
       "1        ...        2900                    0         21900               1   \n",
       "2        ...        3500                  200         19500               2   \n",
       "3        ...        3500                    0         18000               2   \n",
       "4        ...        3500                  200         18000               3   \n",
       "...      ...         ...                  ...           ...             ...   \n",
       "4296266  ...        3300                  300         20900               2   \n",
       "4296267  ...        6300                  200         26000               1   \n",
       "4296268  ...        5500                  200         17000               1   \n",
       "4296269  ...        4000                  300         35000               2   \n",
       "4296270  ...        3300                  300         30000               1   \n",
       "\n",
       "         SETLE_CARD_NM      DLVR_RCEPT_TIME     DLVR_CARALC_TIME  \\\n",
       "0            승인:KB국민카드  2019-12-01 20:47:52  2019-12-01 20:48:11   \n",
       "1             승인:현대카드사  2019-12-01 21:58:07  2019-12-01 22:01:06   \n",
       "2                  NaN  2019-12-01 22:20:31  2019-12-01 22:37:45   \n",
       "3                  NaN  2019-12-01 21:40:39  2019-12-01 21:48:41   \n",
       "4                  NaN  2019-12-01 19:44:37  2019-12-01 19:48:07   \n",
       "...                ...                  ...                  ...   \n",
       "4296266            NaN     2020-03-31 23:56     2020-03-31 23:56   \n",
       "4296267        승인:신한카드     2020-03-31 23:55     2020-03-31 23:55   \n",
       "4296268       승인:롯데카드사     2020-03-31 23:58     2020-03-31 23:59   \n",
       "4296269            NaN     2020-03-31 23:56      2020-04-01 0:01   \n",
       "4296270       승인:비씨카드사     2020-03-31 23:55     2020-03-31 23:56   \n",
       "\n",
       "             DLVR_RECPT_TIME      DLVR_COMPT_TIME DLVR_CANCL_TIME  \n",
       "0        2019-12-01 20:55:33  2019-12-01 21:00:15              \\N  \n",
       "1        2019-12-01 22:20:53  2019-12-01 22:26:01              \\N  \n",
       "2        2019-12-01 22:58:27  2019-12-01 22:58:32              \\N  \n",
       "3        2019-12-01 22:06:35  2019-12-01 22:17:57              \\N  \n",
       "4        2019-12-01 19:54:30  2019-12-01 20:00:22              \\N  \n",
       "...                      ...                  ...             ...  \n",
       "4296266      2020-04-01 0:14      2020-04-01 0:18              \\N  \n",
       "4296267      2020-04-01 0:17      2020-04-01 0:26              \\N  \n",
       "4296268      2020-04-01 0:18      2020-04-01 0:30              \\N  \n",
       "4296269      2020-04-01 0:16      2020-04-01 0:23              \\N  \n",
       "4296270      2020-04-01 0:11      2020-04-01 0:15              \\N  \n",
       "\n",
       "[4296271 rows x 32 columns]"
      ]
     },
     "execution_count": 2,
     "metadata": {},
     "output_type": "execute_result"
    }
   ],
   "source": [
    "# 데이터 불러오기\n",
    "dlvr_call = pd.read_csv('../KT_빅데이터플랫폼_데이터셋/dlvr_call.csv', encoding='utf-8')\n",
    "dlvr_call"
   ]
  },
  {
   "cell_type": "code",
   "execution_count": 3,
   "metadata": {},
   "outputs": [],
   "source": [
    "dlvr_two_region = dlvr_call[(dlvr_call['DLVR_STORE_SIGNGU_NM'] =='의정부시') | (dlvr_call['DLVR_STORE_SIGNGU_NM'] =='영등포구')]"
   ]
  },
  {
   "cell_type": "code",
   "execution_count": 4,
   "metadata": {},
   "outputs": [
    {
     "data": {
      "text/html": [
       "<div>\n",
       "<style scoped>\n",
       "    .dataframe tbody tr th:only-of-type {\n",
       "        vertical-align: middle;\n",
       "    }\n",
       "\n",
       "    .dataframe tbody tr th {\n",
       "        vertical-align: top;\n",
       "    }\n",
       "\n",
       "    .dataframe thead th {\n",
       "        text-align: right;\n",
       "    }\n",
       "</style>\n",
       "<table border=\"1\" class=\"dataframe\">\n",
       "  <thead>\n",
       "    <tr style=\"text-align: right;\">\n",
       "      <th></th>\n",
       "      <th>SN</th>\n",
       "      <th>PROCESS_DT</th>\n",
       "      <th>DLVR_REQUST_ENTRPS_ID</th>\n",
       "      <th>DLVR_REQUST_STTUS_VALUE</th>\n",
       "      <th>DLVR_RCEPT_ENTRPS_ID</th>\n",
       "      <th>DLVR_STORE_ID</th>\n",
       "      <th>DLVR_STORE_INDUTY_NM</th>\n",
       "      <th>DLVR_STORE_LEGALDONG_CODE</th>\n",
       "      <th>DLVR_STORE_BRTC_NM</th>\n",
       "      <th>DLVR_STORE_SIGNGU_NM</th>\n",
       "      <th>...</th>\n",
       "      <th>DLVR_AMOUNT</th>\n",
       "      <th>CALL_RLAY_FEE_AMOUNT</th>\n",
       "      <th>GOODS_AMOUNT</th>\n",
       "      <th>SETLE_KND_VALUE</th>\n",
       "      <th>SETLE_CARD_NM</th>\n",
       "      <th>DLVR_RCEPT_TIME</th>\n",
       "      <th>DLVR_CARALC_TIME</th>\n",
       "      <th>DLVR_RECPT_TIME</th>\n",
       "      <th>DLVR_COMPT_TIME</th>\n",
       "      <th>DLVR_CANCL_TIME</th>\n",
       "    </tr>\n",
       "  </thead>\n",
       "  <tbody>\n",
       "    <tr>\n",
       "      <th>0</th>\n",
       "      <td>3486929</td>\n",
       "      <td>2019-12-01</td>\n",
       "      <td>C000101</td>\n",
       "      <td>1</td>\n",
       "      <td>C000101</td>\n",
       "      <td>S0021950</td>\n",
       "      <td>족발/보쌈</td>\n",
       "      <td>1156013200</td>\n",
       "      <td>서울특별시</td>\n",
       "      <td>영등포구</td>\n",
       "      <td>...</td>\n",
       "      <td>3300</td>\n",
       "      <td>200</td>\n",
       "      <td>18000</td>\n",
       "      <td>1</td>\n",
       "      <td>승인:KB국민카드</td>\n",
       "      <td>2019-12-01 20:47:52</td>\n",
       "      <td>2019-12-01 20:48:11</td>\n",
       "      <td>2019-12-01 20:55:33</td>\n",
       "      <td>2019-12-01 21:00:15</td>\n",
       "      <td>\\N</td>\n",
       "    </tr>\n",
       "    <tr>\n",
       "      <th>2</th>\n",
       "      <td>3486932</td>\n",
       "      <td>2019-12-01</td>\n",
       "      <td>C000029</td>\n",
       "      <td>1</td>\n",
       "      <td>C000043</td>\n",
       "      <td>S0036135</td>\n",
       "      <td>치킨</td>\n",
       "      <td>4115010100</td>\n",
       "      <td>경기도</td>\n",
       "      <td>의정부시</td>\n",
       "      <td>...</td>\n",
       "      <td>3500</td>\n",
       "      <td>200</td>\n",
       "      <td>19500</td>\n",
       "      <td>2</td>\n",
       "      <td>NaN</td>\n",
       "      <td>2019-12-01 22:20:31</td>\n",
       "      <td>2019-12-01 22:37:45</td>\n",
       "      <td>2019-12-01 22:58:27</td>\n",
       "      <td>2019-12-01 22:58:32</td>\n",
       "      <td>\\N</td>\n",
       "    </tr>\n",
       "    <tr>\n",
       "      <th>4</th>\n",
       "      <td>3486934</td>\n",
       "      <td>2019-12-01</td>\n",
       "      <td>C000028</td>\n",
       "      <td>1</td>\n",
       "      <td>C000043</td>\n",
       "      <td>S0003074</td>\n",
       "      <td>치킨</td>\n",
       "      <td>4115010900</td>\n",
       "      <td>경기도</td>\n",
       "      <td>의정부시</td>\n",
       "      <td>...</td>\n",
       "      <td>3500</td>\n",
       "      <td>200</td>\n",
       "      <td>18000</td>\n",
       "      <td>3</td>\n",
       "      <td>NaN</td>\n",
       "      <td>2019-12-01 19:44:37</td>\n",
       "      <td>2019-12-01 19:48:07</td>\n",
       "      <td>2019-12-01 19:54:30</td>\n",
       "      <td>2019-12-01 20:00:22</td>\n",
       "      <td>\\N</td>\n",
       "    </tr>\n",
       "    <tr>\n",
       "      <th>10</th>\n",
       "      <td>3486949</td>\n",
       "      <td>2019-12-01</td>\n",
       "      <td>C000042</td>\n",
       "      <td>1</td>\n",
       "      <td>C000043</td>\n",
       "      <td>S0031720</td>\n",
       "      <td>치킨</td>\n",
       "      <td>4115010400</td>\n",
       "      <td>경기도</td>\n",
       "      <td>의정부시</td>\n",
       "      <td>...</td>\n",
       "      <td>3500</td>\n",
       "      <td>200</td>\n",
       "      <td>21000</td>\n",
       "      <td>1</td>\n",
       "      <td>승인:롯데카드사</td>\n",
       "      <td>2019-12-01 20:43:30</td>\n",
       "      <td>2019-12-01 20:52:34</td>\n",
       "      <td>2019-12-01 20:58:15</td>\n",
       "      <td>2019-12-01 21:06:22</td>\n",
       "      <td>\\N</td>\n",
       "    </tr>\n",
       "    <tr>\n",
       "      <th>15</th>\n",
       "      <td>3486955</td>\n",
       "      <td>2019-12-01</td>\n",
       "      <td>C000029</td>\n",
       "      <td>1</td>\n",
       "      <td>C000043</td>\n",
       "      <td>S0022958</td>\n",
       "      <td>분식</td>\n",
       "      <td>4115011000</td>\n",
       "      <td>경기도</td>\n",
       "      <td>의정부시</td>\n",
       "      <td>...</td>\n",
       "      <td>3500</td>\n",
       "      <td>200</td>\n",
       "      <td>15500</td>\n",
       "      <td>2</td>\n",
       "      <td>NaN</td>\n",
       "      <td>2019-12-01 20:41:39</td>\n",
       "      <td>2019-12-01 20:42:20</td>\n",
       "      <td>2019-12-01 20:59:08</td>\n",
       "      <td>2019-12-01 21:16:19</td>\n",
       "      <td>\\N</td>\n",
       "    </tr>\n",
       "  </tbody>\n",
       "</table>\n",
       "<p>5 rows × 32 columns</p>\n",
       "</div>"
      ],
      "text/plain": [
       "         SN  PROCESS_DT DLVR_REQUST_ENTRPS_ID  DLVR_REQUST_STTUS_VALUE  \\\n",
       "0   3486929  2019-12-01               C000101                        1   \n",
       "2   3486932  2019-12-01               C000029                        1   \n",
       "4   3486934  2019-12-01               C000028                        1   \n",
       "10  3486949  2019-12-01               C000042                        1   \n",
       "15  3486955  2019-12-01               C000029                        1   \n",
       "\n",
       "   DLVR_RCEPT_ENTRPS_ID DLVR_STORE_ID DLVR_STORE_INDUTY_NM  \\\n",
       "0               C000101      S0021950                족발/보쌈   \n",
       "2               C000043      S0036135                   치킨   \n",
       "4               C000043      S0003074                   치킨   \n",
       "10              C000043      S0031720                   치킨   \n",
       "15              C000043      S0022958                   분식   \n",
       "\n",
       "    DLVR_STORE_LEGALDONG_CODE DLVR_STORE_BRTC_NM DLVR_STORE_SIGNGU_NM  ...  \\\n",
       "0                  1156013200              서울특별시                 영등포구  ...   \n",
       "2                  4115010100                경기도                 의정부시  ...   \n",
       "4                  4115010900                경기도                 의정부시  ...   \n",
       "10                 4115010400                경기도                 의정부시  ...   \n",
       "15                 4115011000                경기도                 의정부시  ...   \n",
       "\n",
       "   DLVR_AMOUNT CALL_RLAY_FEE_AMOUNT  GOODS_AMOUNT SETLE_KND_VALUE  \\\n",
       "0         3300                  200         18000               1   \n",
       "2         3500                  200         19500               2   \n",
       "4         3500                  200         18000               3   \n",
       "10        3500                  200         21000               1   \n",
       "15        3500                  200         15500               2   \n",
       "\n",
       "    SETLE_CARD_NM      DLVR_RCEPT_TIME     DLVR_CARALC_TIME  \\\n",
       "0       승인:KB국민카드  2019-12-01 20:47:52  2019-12-01 20:48:11   \n",
       "2             NaN  2019-12-01 22:20:31  2019-12-01 22:37:45   \n",
       "4             NaN  2019-12-01 19:44:37  2019-12-01 19:48:07   \n",
       "10       승인:롯데카드사  2019-12-01 20:43:30  2019-12-01 20:52:34   \n",
       "15            NaN  2019-12-01 20:41:39  2019-12-01 20:42:20   \n",
       "\n",
       "        DLVR_RECPT_TIME      DLVR_COMPT_TIME DLVR_CANCL_TIME  \n",
       "0   2019-12-01 20:55:33  2019-12-01 21:00:15              \\N  \n",
       "2   2019-12-01 22:58:27  2019-12-01 22:58:32              \\N  \n",
       "4   2019-12-01 19:54:30  2019-12-01 20:00:22              \\N  \n",
       "10  2019-12-01 20:58:15  2019-12-01 21:06:22              \\N  \n",
       "15  2019-12-01 20:59:08  2019-12-01 21:16:19              \\N  \n",
       "\n",
       "[5 rows x 32 columns]"
      ]
     },
     "execution_count": 4,
     "metadata": {},
     "output_type": "execute_result"
    }
   ],
   "source": [
    "dlvr_two_region.head()"
   ]
  },
  {
   "cell_type": "code",
   "execution_count": 5,
   "metadata": {},
   "outputs": [],
   "source": [
    "data = dlvr_two_region.copy()"
   ]
  },
  {
   "cell_type": "code",
   "execution_count": 6,
   "metadata": {},
   "outputs": [
    {
     "data": {
      "text/plain": [
       "(1254867, 32)"
      ]
     },
     "execution_count": 6,
     "metadata": {},
     "output_type": "execute_result"
    }
   ],
   "source": [
    "data.shape"
   ]
  },
  {
   "cell_type": "code",
   "execution_count": null,
   "metadata": {},
   "outputs": [],
   "source": [
    "#업종별 - 건수 변화\n",
    "# 코로나 전/후 기준 2월 18일\n"
   ]
  },
  {
   "cell_type": "code",
   "execution_count": 8,
   "metadata": {},
   "outputs": [
    {
     "data": {
      "text/plain": [
       "(1254867, 32)"
      ]
     },
     "execution_count": 8,
     "metadata": {},
     "output_type": "execute_result"
    }
   ],
   "source": [
    "data['PROCESS_DT'] = pd.to_datetime(data['PROCESS_DT'])\n",
    "data.shape"
   ]
  },
  {
   "cell_type": "code",
   "execution_count": 13,
   "metadata": {},
   "outputs": [],
   "source": [
    "before = data[data['PROCESS_DT'] < pd.to_datetime('2020-02-18')]\n",
    "\n",
    "after = data[data['PROCESS_DT'] > pd.to_datetime('2020-02-18')]\n",
    "\n",
    "cor_be = before.groupby(['DLVR_STORE_INDUTY_NM'])['GOODS_AMOUNT'].agg(['count','sum'])\n",
    "\n",
    "cor_be['평균배달금액'] = (cor_be['sum']/ cor_be['count'])\n",
    "\n",
    "corbe = cor_be.sort_values(by = ['평균배달금액'])['평균배달금액'].reset_index()\n",
    "\n",
    "corbe.columns = ['배달상점업종','평균배달금액']\n",
    "\n",
    "corbe['코로나'] = '이전'"
   ]
  },
  {
   "cell_type": "code",
   "execution_count": 59,
   "metadata": {},
   "outputs": [],
   "source": [
    "cor_af = after.groupby(['DLVR_STORE_INDUTY_NM'])['GOODS_AMOUNT'].agg(['count','sum'])\n",
    "cor_af['평균배달금액'] = (cor_af['sum']/ cor_af['count'])\n",
    "coraf = cor_af.sort_values(by = ['평균배달금액'])['평균배달금액'].reset_index()\n",
    "coraf.columns = ['배달상점업종','평균배달금액']\n",
    "coraf['코로나'] = '이후'"
   ]
  },
  {
   "cell_type": "code",
   "execution_count": 60,
   "metadata": {},
   "outputs": [
    {
     "data": {
      "image/png": "[encoded data removed]",
      "text/plain": [
       "<Figure size 864x576 with 1 Axes>"
      ]
     },
     "metadata": {
      "needs_background": "light"
     },
     "output_type": "display_data"
    }
   ],
   "source": [
    "corona = pd.concat([corbe,coraf])\n",
    "\n",
    "plt.figure(figsize = (12,8))\n",
    "sns.barplot(x = '배달상점업종',y = '평균배달금액',hue = '코로나', data = corona, ci=None, palette = 'pastel')\n",
    "plt.xticks(rotation = 30)\n",
    "plt.show()"
   ]
  },
  {
   "cell_type": "code",
   "execution_count": 70,
   "metadata": {},
   "outputs": [],
   "source": [
    "#지역으로 나누기\n",
    "cor_be = before.groupby(['DLVR_STORE_SIGNGU_NM','DLVR_STORE_INDUTY_NM'])['GOODS_AMOUNT'].agg(['count','sum'])\n",
    "cor_be['평균배달금액'] = (cor_be['sum']/ cor_be['count'])\n",
    "corbe = cor_be.sort_values(by = ['DLVR_STORE_SIGNGU_NM','평균배달금액'])['평균배달금액'].reset_index()"
   ]
  },
  {
   "cell_type": "code",
   "execution_count": 72,
   "metadata": {},
   "outputs": [],
   "source": [
    "corbe.columns = ['배달지역','배달상점업종','평균배달금액']"
   ]
  },
  {
   "cell_type": "code",
   "execution_count": 73,
   "metadata": {},
   "outputs": [],
   "source": [
    "corbe['코로나'] = '이전'"
   ]
  },
  {
   "cell_type": "code",
   "execution_count": 74,
   "metadata": {},
   "outputs": [],
   "source": [
    "cor_af = after.groupby(['DLVR_STORE_SIGNGU_NM','DLVR_STORE_INDUTY_NM'])['GOODS_AMOUNT'].agg(['count','sum'])\n",
    "cor_af['평균배달금액'] = (cor_af['sum']/ cor_af['count'])\n",
    "coraf = cor_af.sort_values(by = ['DLVR_STORE_SIGNGU_NM','평균배달금액'])['평균배달금액'].reset_index()\n",
    "coraf.columns = ['배달지역','배달상점업종','평균배달금액']\n",
    "coraf['코로나'] = '이후'"
   ]
  },
  {
   "cell_type": "code",
   "execution_count": 82,
   "metadata": {},
   "outputs": [
    {
     "data": {
      "image/png": "[encoded data removed]",
      "text/plain": [
       "<Figure size 864x576 with 1 Axes>"
      ]
     },
     "metadata": {
      "needs_background": "light"
     },
     "output_type": "display_data"
    }
   ],
   "source": [
    "corona = pd.concat([corbe,coraf])\n",
    "plt.figure(figsize = (12,8))\n",
    "sns.barplot(x = '배달상점업종',y = '평균배달금액',hue = '배달지역', data = corona, ci=None, palette = 'pastel')\n",
    "plt.xticks(rotation = 30)\n",
    "plt.show()"
   ]
  },
  {
   "cell_type": "code",
   "execution_count": 96,
   "metadata": {},
   "outputs": [
    {
     "data": {
      "text/plain": [
       "<seaborn.axisgrid.FacetGrid at 0x178edddce20>"
      ]
     },
     "execution_count": 96,
     "metadata": {},
     "output_type": "execute_result"
    },
    {
     "data": {
      "text/plain": [
       "<Figure size 864x576 with 0 Axes>"
      ]
     },
     "metadata": {},
     "output_type": "display_data"
    },
    {
     "data": {
      "image/png": "[encoded data removed]",
      "text/plain": [
       "<Figure size 1516x360 with 2 Axes>"
      ]
     },
     "metadata": {
      "needs_background": "light"
     },
     "output_type": "display_data"
    }
   ],
   "source": [
    "# catplot 으로 서브플롯 그리기\n",
    "plt.figure(figsize = (12,8))\n",
    "sns.relplot(data = corona, x = '배달상점업종', y='평균배달금액', hue='배달지역',col ='코로나', col_wrap = 4)\n"
   ]
  },
  {
   "cell_type": "code",
   "execution_count": 90,
   "metadata": {},
   "outputs": [
    {
     "name": "stderr",
     "output_type": "stream",
     "text": [
      "c:\\users\\inthe\\miniconda3\\lib\\site-packages\\seaborn\\_decorators.py:36: FutureWarning: Pass the following variables as keyword args: x, y, hue, data. From version 0.12, the only valid positional argument will be `data`, and passing other arguments without an explicit keyword will result in an error or misinterpretation.\n",
      "  warnings.warn(\n"
     ]
    },
    {
     "data": {
      "text/plain": [
       "<AxesSubplot:xlabel='배달지역', ylabel='평균배달금액'>"
      ]
     },
     "execution_count": 90,
     "metadata": {},
     "output_type": "execute_result"
    },
    {
     "data": {
      "image/png": "[encoded data removed]",
      "text/plain": [
       "<Figure size 864x576 with 1 Axes>"
      ]
     },
     "metadata": {
      "needs_background": "light"
     },
     "output_type": "display_data"
    }
   ],
   "source": [
    "# hue옵션을 주어 전용면적별로 다르게 표시\n",
    "plt.figure(figsize=(12,8))\n",
    "sns.boxplot('배달지역','평균배달금액','코로나',corona)"
   ]
  },
  {
   "cell_type": "code",
   "execution_count": 103,
   "metadata": {},
   "outputs": [],
   "source": [
    "#영등포구 코로나 이전/이후 \n",
    "r1  =dlvr_call[(dlvr_call['DLVR_STORE_SIGNGU_NM'] =='영등포구')]\n",
    "data = r1.copy()\n",
    "data['PROCESS_DT'] = pd.to_datetime(data['PROCESS_DT'])\n",
    "before = data[data['PROCESS_DT'] < pd.to_datetime('2020-02-18')]\n",
    "after = data[data['PROCESS_DT'] > pd.to_datetime('2020-02-18')]\n",
    "\n",
    "cor_be = before.groupby(['DLVR_STORE_INDUTY_NM'])['GOODS_AMOUNT'].agg(['count','sum'])\n",
    "cor_be['평균배달금액'] = (cor_be['sum']/ cor_be['count'])\n",
    "corbe = cor_be.sort_values(by = ['평균배달금액'])['평균배달금액'].reset_index()\n",
    "corbe.columns = ['배달상점업종','평균배달금액']\n",
    "corbe['코로나'] = '이전'\n",
    "\n",
    "cor_af = after.groupby(['DLVR_STORE_INDUTY_NM'])['GOODS_AMOUNT'].agg(['count','sum'])\n",
    "cor_af['평균배달금액'] = (cor_af['sum']/ cor_af['count'])\n",
    "coraf = cor_af.sort_values(by = ['평균배달금액'])['평균배달금액'].reset_index()\n",
    "coraf.columns = ['배달상점업종','평균배달금액']\n",
    "coraf['코로나'] = '이후'"
   ]
  },
  {
   "cell_type": "code",
   "execution_count": 104,
   "metadata": {},
   "outputs": [
    {
     "data": {
      "image/png": "[encoded data removed]",
      "text/plain": [
       "<Figure size 864x576 with 1 Axes>"
      ]
     },
     "metadata": {
      "needs_background": "light"
     },
     "output_type": "display_data"
    }
   ],
   "source": [
    "corona = pd.concat([corbe,coraf])\n",
    "\n",
    "plt.figure(figsize = (12,8))\n",
    "sns.barplot(x = '배달상점업종',y = '평균배달금액',hue = '코로나', data = corona, ci=None, palette = 'pastel')\n",
    "plt.xticks(rotation = 30)\n",
    "plt.show()"
   ]
  },
  {
   "cell_type": "code",
   "execution_count": 105,
   "metadata": {},
   "outputs": [],
   "source": [
    "# 의정부 코로나 이전/이후\n",
    "#영등포구 코로나 이전/이후 \n",
    "r2  =dlvr_call[(dlvr_call['DLVR_STORE_SIGNGU_NM'] =='의정부시')]\n",
    "data = r2.copy()\n",
    "data['PROCESS_DT'] = pd.to_datetime(data['PROCESS_DT'])\n",
    "before = data[data['PROCESS_DT'] < pd.to_datetime('2020-02-18')]\n",
    "after = data[data['PROCESS_DT'] > pd.to_datetime('2020-02-18')]\n",
    "\n",
    "cor_be = before.groupby(['DLVR_STORE_INDUTY_NM'])['GOODS_AMOUNT'].agg(['count','sum'])\n",
    "cor_be['평균배달금액'] = (cor_be['sum']/ cor_be['count'])\n",
    "corbe = cor_be.sort_values(by = ['평균배달금액'])['평균배달금액'].reset_index()\n",
    "corbe.columns = ['배달상점업종','평균배달금액']\n",
    "corbe['코로나'] = '이전'\n",
    "\n",
    "cor_af = after.groupby(['DLVR_STORE_INDUTY_NM'])['GOODS_AMOUNT'].agg(['count','sum'])\n",
    "cor_af['평균배달금액'] = (cor_af['sum']/ cor_af['count'])\n",
    "coraf = cor_af.sort_values(by = ['평균배달금액'])['평균배달금액'].reset_index()\n",
    "coraf.columns = ['배달상점업종','평균배달금액']\n",
    "coraf['코로나'] = '이후'"
   ]
  },
  {
   "cell_type": "code",
   "execution_count": 106,
   "metadata": {},
   "outputs": [
    {
     "data": {
      "image/png": "[encoded data removed]",
      "text/plain": [
       "<Figure size 864x576 with 1 Axes>"
      ]
     },
     "metadata": {
      "needs_background": "light"
     },
     "output_type": "display_data"
    }
   ],
   "source": [
    "corona = pd.concat([corbe,coraf])\n",
    "\n",
    "plt.figure(figsize = (12,8))\n",
    "sns.barplot(x = '배달상점업종',y = '평균배달금액',hue = '코로나', data = corona, ci=None, palette = 'pastel')\n",
    "plt.xticks(rotation = 30)\n",
    "plt.show()"
   ]
  },
  {
   "cell_type": "code",
   "execution_count": null,
   "metadata": {},
   "outputs": [],
   "source": []
  }
 ],
 "metadata": {
  "kernelspec": {
   "display_name": "Python 3",
   "language": "python",
   "name": "python3"
  },
  "language_info": {
   "codemirror_mode": {
    "name": "ipython",
    "version": 3
   },
   "file_extension": ".py",
   "mimetype": "text/x-python",
   "name": "python",
   "nbconvert_exporter": "python",
   "pygments_lexer": "ipython3",
   "version": "3.7.6"
  }
 },
 "nbformat": 4,
 "nbformat_minor": 5
}
