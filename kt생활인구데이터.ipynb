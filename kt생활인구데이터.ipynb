{
 "cells": [
  {
   "cell_type": "markdown",
   "id": "champion-power",
   "metadata": {},
   "source": [
    "# kt유동인구데이터\n",
    "- 행정동별 생활인구 데이터\n",
    "- 데이터 정의 : 시간대 - 행정동- 성별- 연령 구분에 따른 생활인구 데이터"
   ]
  },
  {
   "cell_type": "code",
   "execution_count": null,
   "id": "democratic-capture",
   "metadata": {},
   "outputs": [],
   "source": []
  },
  {
   "cell_type": "code",
   "execution_count": 2,
   "id": "wooden-hearts",
   "metadata": {},
   "outputs": [],
   "source": [
    "import pandas as pd\n",
    "import numpy as np\n",
    "import seaborn as sns\n",
    "import matplotlib\n",
    "import matplotlib.pyplot as plt\n",
    "matplotlib.rc('font', family = 'Malgun Gothic')\n",
    "%matplotlib inline"
   ]
  },
  {
   "cell_type": "code",
   "execution_count": 6,
   "id": "early-estonia",
   "metadata": {},
   "outputs": [
    {
     "data": {
      "image/png": "[encoded data removed]",
      "text/plain": [
       "<Figure size 1440x720 with 2 Axes>"
      ]
     },
     "metadata": {
      "needs_background": "light"
     },
     "output_type": "display_data"
    }
   ],
   "source": [
    "df = pd.read_csv('../KT_빅데이터플랫폼_데이터셋/popl.csv')\n",
    "\n",
    "df.columns=['기준년월일','24시간대구분코드','성별구분코드','연령대구분코드','행정동코드','내국인수','장기외국인수','단기외국인수','noting']\n",
    "\n",
    "\n",
    "#숫자를 문자로 먼저 바꾼다\n",
    "df['기준년월일'] = df['기준년월일'].apply(lambda x: str(x))\n",
    "df['월'] = df['기준년월일'].apply(lambda x: x[4:6])\n",
    "\n",
    "# 문자를 datetime으로 바꾸면 형식 제대로 나옴\n",
    "df['기준년월일'] = pd.to_datetime(df['기준년월일'])\n",
    "\n",
    "# 월별 단기외국인수 합계\n",
    "forign1 = df.groupby(['월','성별구분코드','연령대구분코드','24시간대구분코드'])['단기외국인수'].sum()\n",
    "forign1 = pd.DataFrame(forign1)\n",
    "forign1 = forign1.sort_values(by=['단기외국인수'])['단기외국인수'].reset_index()\n",
    "forign1 = forign1.sort_values(by='월')\n",
    "\n",
    "# 월별 장기외국인수 합계\n",
    "forign2 = df.groupby(['월','성별구분코드','연령대구분코드','24시간대구분코드'])['장기외국인수'].sum()\n",
    "forign2 = pd.DataFrame(forign2)\n",
    "forign2 = forign2.sort_values(by=['장기외국인수'])['장기외국인수'].reset_index()\n",
    "forign2 = forign2.sort_values(by='월')\n",
    "\n",
    "\n",
    "\n",
    "fig,(ax1,ax2) = plt.subplots(ncols=2, figsize = (20,10))\n",
    "sns.barplot(x = '월',y='단기외국인수',data=forign1, ci=None, palette ='pastel', ax = ax1)\n",
    "sns.barplot(x = '월',y='장기외국인수',data=forign2, ci=None, palette ='pastel', ax = ax2)\n",
    "ax1.set(xlabel ='월', ylabel='단기외국인수',title = '단기외국인 유동인구')\n",
    "ax2.set(xlabel ='월', ylabel='장기외국인수',title = '장기외국인 유동인구')\n",
    "plt.show()\n"
   ]
  },
  {
   "cell_type": "code",
   "execution_count": 3,
   "id": "selected-channel",
   "metadata": {},
   "outputs": [],
   "source": [
    "popl.to_csv('testfile.csv',encoding = 'utf-8')"
   ]
  },
  {
   "cell_type": "code",
   "execution_count": 4,
   "id": "atomic-temperature",
   "metadata": {},
   "outputs": [
    {
     "data": {
      "text/html": [
       "<div>\n",
       "<style scoped>\n",
       "    .dataframe tbody tr th:only-of-type {\n",
       "        vertical-align: middle;\n",
       "    }\n",
       "\n",
       "    .dataframe tbody tr th {\n",
       "        vertical-align: top;\n",
       "    }\n",
       "\n",
       "    .dataframe thead th {\n",
       "        text-align: right;\n",
       "    }\n",
       "</style>\n",
       "<table border=\"1\" class=\"dataframe\">\n",
       "  <thead>\n",
       "    <tr style=\"text-align: right;\">\n",
       "      <th></th>\n",
       "      <th></th>\n",
       "      <th></th>\n",
       "      <th></th>\n",
       "      <th>내국인수</th>\n",
       "    </tr>\n",
       "    <tr>\n",
       "      <th>월</th>\n",
       "      <th>성별구분코드</th>\n",
       "      <th>연령대구분코드</th>\n",
       "      <th>24시간대구분코드</th>\n",
       "      <th></th>\n",
       "    </tr>\n",
       "  </thead>\n",
       "  <tbody>\n",
       "    <tr>\n",
       "      <th rowspan=\"5\" valign=\"top\">01</th>\n",
       "      <th rowspan=\"5\" valign=\"top\">-</th>\n",
       "      <th rowspan=\"5\" valign=\"top\">_</th>\n",
       "      <th>0</th>\n",
       "      <td>0</td>\n",
       "    </tr>\n",
       "    <tr>\n",
       "      <th>1</th>\n",
       "      <td>0</td>\n",
       "    </tr>\n",
       "    <tr>\n",
       "      <th>2</th>\n",
       "      <td>0</td>\n",
       "    </tr>\n",
       "    <tr>\n",
       "      <th>3</th>\n",
       "      <td>0</td>\n",
       "    </tr>\n",
       "    <tr>\n",
       "      <th>4</th>\n",
       "      <td>0</td>\n",
       "    </tr>\n",
       "    <tr>\n",
       "      <th>...</th>\n",
       "      <th>...</th>\n",
       "      <th>...</th>\n",
       "      <th>...</th>\n",
       "      <td>...</td>\n",
       "    </tr>\n",
       "    <tr>\n",
       "      <th rowspan=\"5\" valign=\"top\">06</th>\n",
       "      <th rowspan=\"5\" valign=\"top\">M</th>\n",
       "      <th rowspan=\"5\" valign=\"top\">age_70</th>\n",
       "      <th>19</th>\n",
       "      <td>825054</td>\n",
       "    </tr>\n",
       "    <tr>\n",
       "      <th>20</th>\n",
       "      <td>822883</td>\n",
       "    </tr>\n",
       "    <tr>\n",
       "      <th>21</th>\n",
       "      <td>821001</td>\n",
       "    </tr>\n",
       "    <tr>\n",
       "      <th>22</th>\n",
       "      <td>818791</td>\n",
       "    </tr>\n",
       "    <tr>\n",
       "      <th>23</th>\n",
       "      <td>816751</td>\n",
       "    </tr>\n",
       "  </tbody>\n",
       "</table>\n",
       "<p>3888 rows × 1 columns</p>\n",
       "</div>"
      ],
      "text/plain": [
       "                               내국인수\n",
       "월  성별구분코드 연령대구분코드 24시간대구분코드        \n",
       "01 -      _       0               0\n",
       "                  1               0\n",
       "                  2               0\n",
       "                  3               0\n",
       "                  4               0\n",
       "...                             ...\n",
       "06 M      age_70  19         825054\n",
       "                  20         822883\n",
       "                  21         821001\n",
       "                  22         818791\n",
       "                  23         816751\n",
       "\n",
       "[3888 rows x 1 columns]"
      ]
     },
     "execution_count": 4,
     "metadata": {},
     "output_type": "execute_result"
    }
   ],
   "source": [
    "popl"
   ]
  },
  {
   "cell_type": "code",
   "execution_count": 5,
   "id": "speaking-bonus",
   "metadata": {},
   "outputs": [],
   "source": [
    "popl = popl.sort_values(by=['내국인수'])['내국인수'].reset_index()"
   ]
  },
  {
   "cell_type": "code",
   "execution_count": 6,
   "id": "qualified-secret",
   "metadata": {},
   "outputs": [
    {
     "data": {
      "text/html": [
       "<div>\n",
       "<style scoped>\n",
       "    .dataframe tbody tr th:only-of-type {\n",
       "        vertical-align: middle;\n",
       "    }\n",
       "\n",
       "    .dataframe tbody tr th {\n",
       "        vertical-align: top;\n",
       "    }\n",
       "\n",
       "    .dataframe thead th {\n",
       "        text-align: right;\n",
       "    }\n",
       "</style>\n",
       "<table border=\"1\" class=\"dataframe\">\n",
       "  <thead>\n",
       "    <tr style=\"text-align: right;\">\n",
       "      <th></th>\n",
       "      <th>월</th>\n",
       "      <th>성별구분코드</th>\n",
       "      <th>연령대구분코드</th>\n",
       "      <th>24시간대구분코드</th>\n",
       "      <th>내국인수</th>\n",
       "    </tr>\n",
       "  </thead>\n",
       "  <tbody>\n",
       "    <tr>\n",
       "      <th>0</th>\n",
       "      <td>01</td>\n",
       "      <td>-</td>\n",
       "      <td>_</td>\n",
       "      <td>0</td>\n",
       "      <td>0</td>\n",
       "    </tr>\n",
       "    <tr>\n",
       "      <th>1</th>\n",
       "      <td>06</td>\n",
       "      <td>-</td>\n",
       "      <td>_</td>\n",
       "      <td>16</td>\n",
       "      <td>0</td>\n",
       "    </tr>\n",
       "    <tr>\n",
       "      <th>2</th>\n",
       "      <td>06</td>\n",
       "      <td>-</td>\n",
       "      <td>_</td>\n",
       "      <td>15</td>\n",
       "      <td>0</td>\n",
       "    </tr>\n",
       "    <tr>\n",
       "      <th>3</th>\n",
       "      <td>06</td>\n",
       "      <td>-</td>\n",
       "      <td>_</td>\n",
       "      <td>14</td>\n",
       "      <td>0</td>\n",
       "    </tr>\n",
       "    <tr>\n",
       "      <th>4</th>\n",
       "      <td>06</td>\n",
       "      <td>-</td>\n",
       "      <td>_</td>\n",
       "      <td>13</td>\n",
       "      <td>0</td>\n",
       "    </tr>\n",
       "    <tr>\n",
       "      <th>...</th>\n",
       "      <td>...</td>\n",
       "      <td>...</td>\n",
       "      <td>...</td>\n",
       "      <td>...</td>\n",
       "      <td>...</td>\n",
       "    </tr>\n",
       "    <tr>\n",
       "      <th>3883</th>\n",
       "      <td>04</td>\n",
       "      <td>F</td>\n",
       "      <td>age_25</td>\n",
       "      <td>17</td>\n",
       "      <td>2716057</td>\n",
       "    </tr>\n",
       "    <tr>\n",
       "      <th>3884</th>\n",
       "      <td>04</td>\n",
       "      <td>F</td>\n",
       "      <td>age_25</td>\n",
       "      <td>13</td>\n",
       "      <td>2723266</td>\n",
       "    </tr>\n",
       "    <tr>\n",
       "      <th>3885</th>\n",
       "      <td>04</td>\n",
       "      <td>F</td>\n",
       "      <td>age_25</td>\n",
       "      <td>16</td>\n",
       "      <td>2725556</td>\n",
       "    </tr>\n",
       "    <tr>\n",
       "      <th>3886</th>\n",
       "      <td>04</td>\n",
       "      <td>F</td>\n",
       "      <td>age_25</td>\n",
       "      <td>15</td>\n",
       "      <td>2727984</td>\n",
       "    </tr>\n",
       "    <tr>\n",
       "      <th>3887</th>\n",
       "      <td>04</td>\n",
       "      <td>F</td>\n",
       "      <td>age_25</td>\n",
       "      <td>14</td>\n",
       "      <td>2728108</td>\n",
       "    </tr>\n",
       "  </tbody>\n",
       "</table>\n",
       "<p>3888 rows × 5 columns</p>\n",
       "</div>"
      ],
      "text/plain": [
       "       월 성별구분코드 연령대구분코드  24시간대구분코드     내국인수\n",
       "0     01      -       _          0        0\n",
       "1     06      -       _         16        0\n",
       "2     06      -       _         15        0\n",
       "3     06      -       _         14        0\n",
       "4     06      -       _         13        0\n",
       "...   ..    ...     ...        ...      ...\n",
       "3883  04      F  age_25         17  2716057\n",
       "3884  04      F  age_25         13  2723266\n",
       "3885  04      F  age_25         16  2725556\n",
       "3886  04      F  age_25         15  2727984\n",
       "3887  04      F  age_25         14  2728108\n",
       "\n",
       "[3888 rows x 5 columns]"
      ]
     },
     "execution_count": 6,
     "metadata": {},
     "output_type": "execute_result"
    }
   ],
   "source": [
    "popl"
   ]
  },
  {
   "cell_type": "code",
   "execution_count": 7,
   "id": "complete-pakistan",
   "metadata": {},
   "outputs": [],
   "source": [
    "popl = popl.sort_values(by='월')"
   ]
  },
  {
   "cell_type": "code",
   "execution_count": 8,
   "id": "quantitative-kennedy",
   "metadata": {},
   "outputs": [
    {
     "data": {
      "text/html": [
       "<div>\n",
       "<style scoped>\n",
       "    .dataframe tbody tr th:only-of-type {\n",
       "        vertical-align: middle;\n",
       "    }\n",
       "\n",
       "    .dataframe tbody tr th {\n",
       "        vertical-align: top;\n",
       "    }\n",
       "\n",
       "    .dataframe thead th {\n",
       "        text-align: right;\n",
       "    }\n",
       "</style>\n",
       "<table border=\"1\" class=\"dataframe\">\n",
       "  <thead>\n",
       "    <tr style=\"text-align: right;\">\n",
       "      <th></th>\n",
       "      <th>월</th>\n",
       "      <th>성별구분코드</th>\n",
       "      <th>연령대구분코드</th>\n",
       "      <th>24시간대구분코드</th>\n",
       "      <th>내국인수</th>\n",
       "    </tr>\n",
       "  </thead>\n",
       "  <tbody>\n",
       "    <tr>\n",
       "      <th>0</th>\n",
       "      <td>01</td>\n",
       "      <td>-</td>\n",
       "      <td>_</td>\n",
       "      <td>0</td>\n",
       "      <td>0</td>\n",
       "    </tr>\n",
       "    <tr>\n",
       "      <th>761</th>\n",
       "      <td>01</td>\n",
       "      <td>M</td>\n",
       "      <td>age_50</td>\n",
       "      <td>11</td>\n",
       "      <td>644399</td>\n",
       "    </tr>\n",
       "    <tr>\n",
       "      <th>762</th>\n",
       "      <td>01</td>\n",
       "      <td>M</td>\n",
       "      <td>age_50</td>\n",
       "      <td>12</td>\n",
       "      <td>645884</td>\n",
       "    </tr>\n",
       "    <tr>\n",
       "      <th>763</th>\n",
       "      <td>01</td>\n",
       "      <td>M</td>\n",
       "      <td>age_50</td>\n",
       "      <td>17</td>\n",
       "      <td>646074</td>\n",
       "    </tr>\n",
       "    <tr>\n",
       "      <th>764</th>\n",
       "      <td>01</td>\n",
       "      <td>M</td>\n",
       "      <td>age_50</td>\n",
       "      <td>13</td>\n",
       "      <td>647519</td>\n",
       "    </tr>\n",
       "    <tr>\n",
       "      <th>...</th>\n",
       "      <td>...</td>\n",
       "      <td>...</td>\n",
       "      <td>...</td>\n",
       "      <td>...</td>\n",
       "      <td>...</td>\n",
       "    </tr>\n",
       "    <tr>\n",
       "      <th>1893</th>\n",
       "      <td>06</td>\n",
       "      <td>F</td>\n",
       "      <td>age_45</td>\n",
       "      <td>23</td>\n",
       "      <td>1293726</td>\n",
       "    </tr>\n",
       "    <tr>\n",
       "      <th>1892</th>\n",
       "      <td>06</td>\n",
       "      <td>M</td>\n",
       "      <td>age_40</td>\n",
       "      <td>6</td>\n",
       "      <td>1293035</td>\n",
       "    </tr>\n",
       "    <tr>\n",
       "      <th>1891</th>\n",
       "      <td>06</td>\n",
       "      <td>F</td>\n",
       "      <td>age_55</td>\n",
       "      <td>6</td>\n",
       "      <td>1293033</td>\n",
       "    </tr>\n",
       "    <tr>\n",
       "      <th>1902</th>\n",
       "      <td>06</td>\n",
       "      <td>F</td>\n",
       "      <td>age_55</td>\n",
       "      <td>7</td>\n",
       "      <td>1299757</td>\n",
       "    </tr>\n",
       "    <tr>\n",
       "      <th>1176</th>\n",
       "      <td>06</td>\n",
       "      <td>M</td>\n",
       "      <td>age_70</td>\n",
       "      <td>18</td>\n",
       "      <td>827579</td>\n",
       "    </tr>\n",
       "  </tbody>\n",
       "</table>\n",
       "<p>3888 rows × 5 columns</p>\n",
       "</div>"
      ],
      "text/plain": [
       "       월 성별구분코드 연령대구분코드  24시간대구분코드     내국인수\n",
       "0     01      -       _          0        0\n",
       "761   01      M  age_50         11   644399\n",
       "762   01      M  age_50         12   645884\n",
       "763   01      M  age_50         17   646074\n",
       "764   01      M  age_50         13   647519\n",
       "...   ..    ...     ...        ...      ...\n",
       "1893  06      F  age_45         23  1293726\n",
       "1892  06      M  age_40          6  1293035\n",
       "1891  06      F  age_55          6  1293033\n",
       "1902  06      F  age_55          7  1299757\n",
       "1176  06      M  age_70         18   827579\n",
       "\n",
       "[3888 rows x 5 columns]"
      ]
     },
     "execution_count": 8,
     "metadata": {},
     "output_type": "execute_result"
    }
   ],
   "source": [
    "popl"
   ]
  },
  {
   "cell_type": "code",
   "execution_count": 9,
   "id": "secure-premises",
   "metadata": {},
   "outputs": [
    {
     "data": {
      "image/png": "[encoded data removed]",
      "text/plain": [
       "<Figure size 1080x720 with 1 Axes>"
      ]
     },
     "metadata": {
      "needs_background": "light"
     },
     "output_type": "display_data"
    }
   ],
   "source": [
    "#월별 내국인 유동인구는 유의미한 차이를 가질수없음(1월데이터가 없는정도)\n",
    "plt.figure(figsize = (15,10))\n",
    "sns.barplot(x = '월',y='내국인수',hue='성별구분코드',data=popl, ci=None, palette ='pastel')\n",
    "plt.show()"
   ]
  },
  {
   "cell_type": "code",
   "execution_count": 125,
   "id": "fuzzy-bernard",
   "metadata": {},
   "outputs": [
    {
     "data": {
      "text/plain": [
       "array([   0,   30,    8, ..., 1159, 1124, 1145], dtype=int64)"
      ]
     },
     "execution_count": 125,
     "metadata": {},
     "output_type": "execute_result"
    }
   ],
   "source": [
    "df['단기외국인수'].unique()"
   ]
  },
  {
   "cell_type": "code",
   "execution_count": 3,
   "id": "cubic-negotiation",
   "metadata": {},
   "outputs": [
    {
     "data": {
      "text/plain": [
       "월   성별구분코드  연령대구분코드  24시간대구분코드\n",
       "01  -       _        0            143138\n",
       "                     1            144380\n",
       "                     2            144928\n",
       "                     3            145181\n",
       "                     4            144947\n",
       "Name: 단기외국인수, dtype: int64"
      ]
     },
     "execution_count": 3,
     "metadata": {},
     "output_type": "execute_result"
    }
   ],
   "source": [
    "forign1 = df.groupby(['월','성별구분코드','연령대구분코드','24시간대구분코드'])['단기외국인수'].sum()\n",
    "forign1.head()"
   ]
  },
  {
   "cell_type": "code",
   "execution_count": 4,
   "id": "smart-launch",
   "metadata": {},
   "outputs": [],
   "source": [
    "forign1 = pd.DataFrame(forign1)\n",
    "forign1 = forign1.sort_values(by=['단기외국인수'])['단기외국인수'].reset_index()\n",
    "forign1 = forign1.sort_values(by='월')"
   ]
  },
  {
   "cell_type": "code",
   "execution_count": 5,
   "id": "small-karma",
   "metadata": {},
   "outputs": [
    {
     "data": {
      "text/html": [
       "<div>\n",
       "<style scoped>\n",
       "    .dataframe tbody tr th:only-of-type {\n",
       "        vertical-align: middle;\n",
       "    }\n",
       "\n",
       "    .dataframe tbody tr th {\n",
       "        vertical-align: top;\n",
       "    }\n",
       "\n",
       "    .dataframe thead th {\n",
       "        text-align: right;\n",
       "    }\n",
       "</style>\n",
       "<table border=\"1\" class=\"dataframe\">\n",
       "  <thead>\n",
       "    <tr style=\"text-align: right;\">\n",
       "      <th></th>\n",
       "      <th>월</th>\n",
       "      <th>성별구분코드</th>\n",
       "      <th>연령대구분코드</th>\n",
       "      <th>24시간대구분코드</th>\n",
       "      <th>단기외국인수</th>\n",
       "    </tr>\n",
       "  </thead>\n",
       "  <tbody>\n",
       "    <tr>\n",
       "      <th>1943</th>\n",
       "      <td>01</td>\n",
       "      <td>M</td>\n",
       "      <td>age_70</td>\n",
       "      <td>2</td>\n",
       "      <td>0</td>\n",
       "    </tr>\n",
       "    <tr>\n",
       "      <th>2566</th>\n",
       "      <td>01</td>\n",
       "      <td>F</td>\n",
       "      <td>age_25</td>\n",
       "      <td>19</td>\n",
       "      <td>0</td>\n",
       "    </tr>\n",
       "    <tr>\n",
       "      <th>2565</th>\n",
       "      <td>01</td>\n",
       "      <td>F</td>\n",
       "      <td>age_25</td>\n",
       "      <td>18</td>\n",
       "      <td>0</td>\n",
       "    </tr>\n",
       "    <tr>\n",
       "      <th>2564</th>\n",
       "      <td>01</td>\n",
       "      <td>F</td>\n",
       "      <td>age_20</td>\n",
       "      <td>11</td>\n",
       "      <td>0</td>\n",
       "    </tr>\n",
       "    <tr>\n",
       "      <th>2563</th>\n",
       "      <td>01</td>\n",
       "      <td>F</td>\n",
       "      <td>age_20</td>\n",
       "      <td>9</td>\n",
       "      <td>0</td>\n",
       "    </tr>\n",
       "    <tr>\n",
       "      <th>...</th>\n",
       "      <td>...</td>\n",
       "      <td>...</td>\n",
       "      <td>...</td>\n",
       "      <td>...</td>\n",
       "      <td>...</td>\n",
       "    </tr>\n",
       "    <tr>\n",
       "      <th>1097</th>\n",
       "      <td>06</td>\n",
       "      <td>F</td>\n",
       "      <td>age_50</td>\n",
       "      <td>10</td>\n",
       "      <td>0</td>\n",
       "    </tr>\n",
       "    <tr>\n",
       "      <th>1096</th>\n",
       "      <td>06</td>\n",
       "      <td>F</td>\n",
       "      <td>age_50</td>\n",
       "      <td>9</td>\n",
       "      <td>0</td>\n",
       "    </tr>\n",
       "    <tr>\n",
       "      <th>1095</th>\n",
       "      <td>06</td>\n",
       "      <td>F</td>\n",
       "      <td>age_50</td>\n",
       "      <td>8</td>\n",
       "      <td>0</td>\n",
       "    </tr>\n",
       "    <tr>\n",
       "      <th>1093</th>\n",
       "      <td>06</td>\n",
       "      <td>F</td>\n",
       "      <td>age_50</td>\n",
       "      <td>6</td>\n",
       "      <td>0</td>\n",
       "    </tr>\n",
       "    <tr>\n",
       "      <th>1296</th>\n",
       "      <td>06</td>\n",
       "      <td>M</td>\n",
       "      <td>age_65</td>\n",
       "      <td>4</td>\n",
       "      <td>0</td>\n",
       "    </tr>\n",
       "  </tbody>\n",
       "</table>\n",
       "<p>3888 rows × 5 columns</p>\n",
       "</div>"
      ],
      "text/plain": [
       "       월 성별구분코드 연령대구분코드  24시간대구분코드  단기외국인수\n",
       "1943  01      M  age_70          2       0\n",
       "2566  01      F  age_25         19       0\n",
       "2565  01      F  age_25         18       0\n",
       "2564  01      F  age_20         11       0\n",
       "2563  01      F  age_20          9       0\n",
       "...   ..    ...     ...        ...     ...\n",
       "1097  06      F  age_50         10       0\n",
       "1096  06      F  age_50          9       0\n",
       "1095  06      F  age_50          8       0\n",
       "1093  06      F  age_50          6       0\n",
       "1296  06      M  age_65          4       0\n",
       "\n",
       "[3888 rows x 5 columns]"
      ]
     },
     "execution_count": 5,
     "metadata": {},
     "output_type": "execute_result"
    }
   ],
   "source": [
    "forign1"
   ]
  },
  {
   "cell_type": "code",
   "execution_count": 10,
   "id": "streaming-replica",
   "metadata": {},
   "outputs": [
    {
     "name": "stderr",
     "output_type": "stream",
     "text": [
      "No handles with labels found to put in legend.\n"
     ]
    },
    {
     "data": {
      "image/png": "[encoded data removed]",
      "text/plain": [
       "<Figure size 1080x720 with 1 Axes>"
      ]
     },
     "metadata": {
      "needs_background": "light"
     },
     "output_type": "display_data"
    }
   ],
   "source": [
    "# 단기외국인 숫자는 3월 부터 현저히 줄어들은 것으로 보임\n",
    "plt.figure(figsize = (15,10))\n",
    "sns.barplot(x = '월',y='단기외국인수',data=forign1, ci=None, palette ='pastel')\n",
    "plt.legend(title = '단기외국인 유동인구', loc ='upper left', fontsize = 'xx-large')\n",
    "plt.show()"
   ]
  },
  {
   "cell_type": "code",
   "execution_count": 9,
   "id": "incorporate-secretary",
   "metadata": {},
   "outputs": [
    {
     "name": "stderr",
     "output_type": "stream",
     "text": [
      "No handles with labels found to put in legend.\n"
     ]
    },
    {
     "data": {
      "image/png": "[encoded data removed]",
      "text/plain": [
       "<Figure size 1080x720 with 1 Axes>"
      ]
     },
     "metadata": {
      "needs_background": "light"
     },
     "output_type": "display_data"
    }
   ],
   "source": [
    "# 장기외국인수에 대한 데이터 변화는 유의미하다고 할수 없음\n",
    "forign2 = df.groupby(['월','성별구분코드','연령대구분코드','24시간대구분코드'])['장기외국인수'].sum()\n",
    "forign2 = pd.DataFrame(forign2)\n",
    "forign2 = forign2.sort_values(by=['장기외국인수'])['장기외국인수'].reset_index()\n",
    "forign2 = forign2.sort_values(by='월')\n",
    "plt.figure(figsize = (15,10))\n",
    "sns.barplot(x = '월',y='장기외국인수',data=forign2, ci=None, palette ='pastel')\n",
    "plt.legend(title = '장기외국인 유동인구', loc ='upper left', fontsize = 'xx-large')\n",
    "plt.show()"
   ]
  },
  {
   "cell_type": "markdown",
   "id": "mineral-carter",
   "metadata": {},
   "source": [
    "단기외국인의 숫자가 여행과 같이 단순 취미,여가 목적에는 코로나로 인한 입국 허가로 인해 숫자가 현저히 줄어들었다고 볼수있다(주로 중국인들의 면세쇼핑 등을 예로 들수있음)\n",
    "하지만, 장기외국인은 한국에서 노동을 하는사람들이 주로 이루기때문에 데이터가 줄지않은 모습이며, 오히려 본국으로 돌아가는것이 어려운것도 있을것 같다.\n"
   ]
  },
  {
   "cell_type": "code",
   "execution_count": null,
   "id": "offshore-counter",
   "metadata": {},
   "outputs": [],
   "source": []
  }
 ],
 "metadata": {
  "kernelspec": {
   "display_name": "Python 3",
   "language": "python",
   "name": "python3"
  },
  "language_info": {
   "codemirror_mode": {
    "name": "ipython",
    "version": 3
   },
   "file_extension": ".py",
   "mimetype": "text/x-python",
   "name": "python",
   "nbconvert_exporter": "python",
   "pygments_lexer": "ipython3",
   "version": "3.8.5"
  }
 },
 "nbformat": 4,
 "nbformat_minor": 5
}
